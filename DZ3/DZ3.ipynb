{
 "cells": [
  {
   "cell_type": "markdown",
   "metadata": {},
   "source": [
    "## Задание 1"
   ]
  },
  {
   "cell_type": "code",
   "execution_count": null,
   "metadata": {},
   "outputs": [],
   "source": [
    "z = input()\n",
    "if len(z) % 2 != 0:\n",
    "    print(z[len(z) // 2])\n",
    "else:\n",
    "    print(z[len(z) // 2-1]+z[len(z) // 2])"
   ]
  },
  {
   "cell_type": "markdown",
   "metadata": {},
   "source": [
    "## Задание 2"
   ]
  },
  {
   "cell_type": "code",
   "execution_count": null,
   "metadata": {},
   "outputs": [],
   "source": [
    "summ = 0\n",
    "while True:\n",
    "    num = int(input('Введите число: '))\n",
    "    if num == 0:\n",
    "        break\n",
    "    summ += num\n",
    "print(summ)"
   ]
  },
  {
   "cell_type": "markdown",
   "metadata": {},
   "source": [
    "## Задание 3"
   ]
  },
  {
   "cell_type": "code",
   "execution_count": null,
   "metadata": {},
   "outputs": [],
   "source": [
    "boys = ['Peter', 'Alex', 'John', 'Arthur', 'Richard']\n",
    "girls = ['Kate', 'Liza', 'Kira', 'Emma', 'Trisha']\n",
    "\n",
    "boys.sort()\n",
    "girls.sort()\n",
    "\n",
    "if len(boys) == len(girls):\n",
    "    print('Идеальные пары: ')\n",
    "    for boy,girl in zip(boys,girls):\n",
    "        print(f'{boy} и {girl}')\n",
    "else:\n",
    "    print('Внимание, кто-то может остаться без пары!')\n"
   ]
  },
  {
   "cell_type": "markdown",
   "metadata": {},
   "source": [
    "## Задание 4"
   ]
  },
  {
   "cell_type": "code",
   "execution_count": 124,
   "metadata": {},
   "outputs": [
    {
     "name": "stdout",
     "output_type": "stream",
     "text": [
      "Thailand - 23.9\n",
      "Germany - 13.8\n",
      "Russia - 3.7\n",
      "Poland - 12.0\n"
     ]
    }
   ],
   "source": [
    "countries_temperature = [\n",
    "    ['Thailand', [75.2, 77, 78.8, 73.4, 68, 75.2, 77]],\n",
    "    ['Germany', [57.2, 55.4, 59, 59, 53.6]],\n",
    "    ['Russia', [35.6, 37.4, 39.2, 41, 42.8, 39.2, 35.6]],\n",
    "    ['Poland', [50, 50, 53.6, 57.2, 55.4, 55.4]]\n",
    "]\n",
    "\n",
    "for country,temperature in countries_temperature:\n",
    "    temp_C = round((5/9)*(sum(temperature)/len(temperature)-32),1)\n",
    "    print(f'{country} - {temp_C}')\n",
    "\n",
    "#C=(5/9)*(F-32)\n"
   ]
  },
  {
   "cell_type": "markdown",
   "metadata": {},
   "source": [
    "## Задание 5"
   ]
  },
  {
   "cell_type": "code",
   "execution_count": 142,
   "metadata": {
    "scrolled": false
   },
   "outputs": [
    {
     "name": "stdout",
     "output_type": "stream",
     "text": [
      "Среднее количество просмотров на уникального пользователя: 145.33\n"
     ]
    }
   ],
   "source": [
    "# stream = [\n",
    "#     '2018-01-01,user1,3',\n",
    "#     '2018-01-07,user1,4',\n",
    "#     '2018-03-29,user1,1',\n",
    "#     '2018-04-04,user1,13',\n",
    "#     '2018-01-05,user2,7',\n",
    "#     '2018-06-14,user3,4',\n",
    "#     '2018-07-02,user3,10',\n",
    "#     '2018-03-21,user4,19',\n",
    "#     '2018-03-22,user4,4',\n",
    "#     '2018-04-22,user4,8',\n",
    "#     '2018-05-03,user4,9',\n",
    "#     '2018-05-11,user4,11',\n",
    "# ]\n",
    "stream = [\n",
    "    '2018-01-01,user100,150',\n",
    "    '2018-01-07,user99,205',\n",
    "    '2018-03-29,user1001,81'\n",
    "]\n",
    "users = []\n",
    "views = []\n",
    "for row in stream:\n",
    "    first, *other = row.split(',')\n",
    "    if other[0] not in users:\n",
    "        users.append(other[0])\n",
    "    views.append(int(other[1]))\n",
    "print('Среднее количество просмотров на уникального пользователя:', round(sum(views)/len(users),2))\n",
    "\n"
   ]
  },
  {
   "cell_type": "markdown",
   "metadata": {},
   "source": [
    "## Задание 6"
   ]
  },
  {
   "cell_type": "code",
   "execution_count": 119,
   "metadata": {},
   "outputs": [
    {
     "name": "stdout",
     "output_type": "stream",
     "text": [
      "23 4 4 87 9 9 9\n",
      "4 9\n"
     ]
    }
   ],
   "source": [
    "res = []\n",
    "num = input()\n",
    "query = num.split()\n",
    "for el in query:\n",
    "    if query.count(el) > 1 and el not in res:\n",
    "        res.append(el) \n",
    "print(' '.join(res))   "
   ]
  },
  {
   "cell_type": "code",
   "execution_count": null,
   "metadata": {},
   "outputs": [],
   "source": []
  }
 ],
 "metadata": {
  "kernelspec": {
   "display_name": "Python 3",
   "language": "python",
   "name": "python3"
  },
  "language_info": {
   "codemirror_mode": {
    "name": "ipython",
    "version": 3
   },
   "file_extension": ".py",
   "mimetype": "text/x-python",
   "name": "python",
   "nbconvert_exporter": "python",
   "pygments_lexer": "ipython3",
   "version": "3.8.3"
  }
 },
 "nbformat": 4,
 "nbformat_minor": 4
}
