{
 "cells": [
  {
   "cell_type": "markdown",
   "metadata": {},
   "source": [
    "# Задание 1"
   ]
  },
  {
   "cell_type": "code",
   "execution_count": null,
   "metadata": {},
   "outputs": [],
   "source": [
    "documents = [\n",
    " {'type': 'passport', 'number': '2207 876234', 'name': 'Василий Гупкин'},\n",
    " {'type': 'invoice', 'number': '11-2', 'name': 'Геннадий Покемонов'},\n",
    " {'type': 'insurance', 'number': '10006', 'name': 'Аристарх Павлов'}\n",
    "]\n",
    "\n",
    "directories = {\n",
    " '1': ['2207 876234', '11-2'],\n",
    " '2': ['10006'],\n",
    " '3': []\n",
    "}\n",
    "\n",
    "\n"
   ]
  },
  {
   "cell_type": "code",
   "execution_count": null,
   "metadata": {},
   "outputs": [],
   "source": [
    "def user_input():\n",
    "    com_variants = {'p': check_user,\n",
    "                's' : print_check_shelf,\n",
    "                'l' : full_inf,\n",
    "                'ads' : add_shelf,\n",
    "                'ds' : del_shelf,\n",
    "                'ad' : add_new_info,\n",
    "                'd' : del_docu,\n",
    "                'm' : move_data,\n",
    "                'q':quit\n",
    "               }\n",
    "    while True:\n",
    "        com = input('Введите команду: ')\n",
    "        if com in com_variants:\n",
    "            com_variants[com]()\n",
    "            if com == 'q':\n",
    "                break\n",
    "        else:\n",
    "            return user_input()\n",
    "        \n",
    "def quit():\n",
    "    return print('Завершение программы.')          "
   ]
  },
  {
   "cell_type": "code",
   "execution_count": null,
   "metadata": {},
   "outputs": [],
   "source": [
    "# def doc_id():\n",
    "#     '''\n",
    "#     2.\n",
    "#     Проверка и вывод номера документа\n",
    "    \n",
    "#     '''\n",
    "#     doc_id = input('Введите номер документа: ')\n",
    "#     if doc_id not in [row['number'] for row in documents]:\n",
    "#         print('Документ не найден в базе')\n",
    "#         return\n",
    "#     else:\n",
    "#         return doc_id\n",
    "    \n",
    "def doc_id_insert():\n",
    "    '''\n",
    "    2.\n",
    "    Проверка и вывод номера документа\n",
    "    \n",
    "    '''\n",
    "    doc_id = input('Введите номер документа: ')\n",
    "    return doc_id\n",
    "\n",
    "def doc_check(doc_id):\n",
    "    if doc_id not in [row['number'] for row in documents]:\n",
    "        print('Документ не найден в базе')\n",
    "        return\n",
    "    else:\n",
    "        return doc_id\n"
   ]
  },
  {
   "cell_type": "code",
   "execution_count": null,
   "metadata": {},
   "outputs": [],
   "source": [
    "\n",
    "def check_shelf(doc_input):\n",
    "    '''\n",
    "    4.\n",
    "    Возвращает номер полки по номеру документа. На вход поступает номер документа.\n",
    "    '''\n",
    "    for shelf,doc in directories.items():\n",
    "        for k in doc:\n",
    "            if doc_input == k:\n",
    "                return shelf\n",
    "   \n",
    "    return\n",
    "            \n",
    "def print_check_shelf():\n",
    "    \"\"\"\n",
    "    Вывод на экран номера полки\n",
    "    \"\"\"\n",
    "    doc = doc_id_insert()\n",
    "    if doc_check(doc) is None:\n",
    "        return print()\n",
    "    else:\n",
    "        print(f'\\nДокумент хранится на полке: ',(check_shelf(doc_check(doc))))\n"
   ]
  },
  {
   "cell_type": "code",
   "execution_count": null,
   "metadata": {},
   "outputs": [],
   "source": [
    "def check_user():\n",
    "    '''\n",
    "    3.\n",
    "    Нахождение ФИО по номеру документа\n",
    "    '''\n",
    "    document_numb = doc_check(doc_id_insert())\n",
    "    for row in documents:\n",
    "        if document_numb == row['number']:\n",
    "            print(f'\\nВладелец документа: ',row['name'])"
   ]
  },
  {
   "cell_type": "code",
   "execution_count": null,
   "metadata": {},
   "outputs": [],
   "source": [
    "def full_inf():\n",
    "    '''\n",
    "    5.\n",
    "    Полная информация по всем документам\n",
    "    '''\n",
    "    for dic in documents:\n",
    "        print(f\"№: {dic['number']}, тип: {dic['type']}, владелец: {dic['name']}, номер полки: {check_shelf(dic['number'])}\")\n",
    "        "
   ]
  },
  {
   "cell_type": "code",
   "execution_count": null,
   "metadata": {},
   "outputs": [],
   "source": [
    "def shelfs():\n",
    "    \"\"\"\n",
    "    7.\n",
    "    Вывод номеров полок в строку\n",
    "    \"\"\"\n",
    "    return ','.join([k for k in directories.keys()])"
   ]
  },
  {
   "cell_type": "code",
   "execution_count": null,
   "metadata": {},
   "outputs": [],
   "source": [
    "def add_shelf():\n",
    "    \"\"\"\n",
    "    6.\n",
    "    Добавление новой полки\n",
    "    \"\"\"\n",
    "    shelf_id = input('Введите номер полки: ')\n",
    "    if shelf_id not in directories.keys():\n",
    "        directories.setdefault(shelf_id, [])\n",
    "        print(f\"Полка добавлена. Текущий перечень полок: {shelfs()}\")\n",
    "    else:\n",
    "        print(f\"Такая полка уже существует. Текущий перечень полок: {shelfs()}\")\n"
   ]
  },
  {
   "cell_type": "code",
   "execution_count": null,
   "metadata": {},
   "outputs": [],
   "source": [
    "def del_shelf():\n",
    "    \"\"\"\n",
    "    8.\n",
    "    Удаление полки\n",
    "    \"\"\"\n",
    "    shelf_id = input('Введите номер полки: ')\n",
    "    if shelf_id not in directories:\n",
    "        print(f\"Такой полки не существует. Текущий перечень полок: {shelfs()}\")\n",
    "    elif directories[shelf_id] == []:\n",
    "        directories.pop(shelf_id)\n",
    "        print(f\"Полка удалена. Текущий перечень полок: {shelfs()}\")\n",
    "    elif directories[shelf_id] != []:\n",
    "        print(f\"На полке есть документ(ы), удалите их перед удалением полки. Текущий перечень полок: {shelfs()}\")\n",
    "\n",
    "\n",
    "        "
   ]
  },
  {
   "cell_type": "markdown",
   "metadata": {},
   "source": [
    "# Задание 2"
   ]
  },
  {
   "cell_type": "code",
   "execution_count": null,
   "metadata": {},
   "outputs": [],
   "source": [
    "def add_new_info():\n",
    "    \"\"\"\n",
    "    Добавление информации в оба справочника\n",
    "    \"\"\"\n",
    "      \n",
    "    docu_id = doc_id_insert()\n",
    "    docu_type = input('Введите тип документа: ')\n",
    "    docu_owner = input('Введите владельца документа: ')\n",
    "    docu_shelf = input('Введите полку для хранения: ')\n",
    "    \n",
    "    add_doc_id_to_dir(docu_shelf,docu_id)\n",
    "    if docu_id in sum([numb for numb in directories.values()],[]):\n",
    "        add_value_to_documents(docu_type,docu_id,docu_owner)\n",
    "    full_inf()      \n",
    "    \n",
    "def add_doc_id_to_dir(docu_shelf,docu_id):\n",
    "    \"\"\"\n",
    "    Добавляем номер документа в directories, если полка существует. На вход номер полки и номер документа\n",
    "    \"\"\"\n",
    "    if docu_shelf in directories:\n",
    "        return directories[docu_shelf].append(docu_id)     \n",
    "    else: \n",
    "        print('Такой полки не существует. Добавьте полку командой as.')  \n",
    "        return add_new_info()\n",
    "\n",
    "    \n",
    "def add_value_to_documents(typ,num,name):\n",
    "    \"\"\"Добавление нового значение в словарь documents\n",
    "    \"\"\"\n",
    "    dic = {}\n",
    "    dic['type'] = typ\n",
    "    dic['number'] = num\n",
    "    dic['name'] = name\n",
    "    documents.append(dic)\n"
   ]
  },
  {
   "cell_type": "code",
   "execution_count": null,
   "metadata": {},
   "outputs": [],
   "source": [
    "def del_docu():\n",
    "    \"\"\"\n",
    "    Удаление значения из обоих справочников\n",
    "    \"\"\"\n",
    "    doc = doc_id_insert()\n",
    "    del_from_dir(doc)\n",
    "    del_from_doc(doc)\n",
    "    full_inf()\n",
    "    \n",
    "def del_from_dir(doc):\n",
    "    \"\"\"\n",
    "    Удаление из справочника directories\n",
    "    \"\"\"\n",
    "    val = [numb for numb in directories.values()]\n",
    "    for row in val:\n",
    "        for el in row:\n",
    "            if el == doc:\n",
    "                row.remove(el)\n",
    "#             else:\n",
    "#                 return\n",
    "    \n",
    "def del_from_doc(doc):\n",
    "    \"\"\"\n",
    "    Удаление из справочника documents\n",
    "    \"\"\"\n",
    "    for row in documents:\n",
    "        if row['number'] == doc:\n",
    "            documents.remove(row)"
   ]
  },
  {
   "cell_type": "code",
   "execution_count": null,
   "metadata": {},
   "outputs": [],
   "source": [
    "def move_data():\n",
    "    ret = check_doc_and_shelf()\n",
    "    doc = ret[0]\n",
    "    shelf = ret[1]\n",
    "    del_from_dir(doc)\n",
    "    add_doc_id_to_dir(shelf,doc)\n",
    "    full_inf()\n",
    "    \n",
    "def check_doc_and_shelf():\n",
    "    \"\"\"\n",
    "    Проверка и вывод на экран предупреждений в случае не прохождения проверки.\n",
    "    \"\"\"\n",
    "    doc = doc_check(doc_id_insert()) \n",
    "    if doc is None:\n",
    "        full_inf()\n",
    "        return\n",
    "    else:\n",
    "        shelf_id = input('Введите номер полки: ')\n",
    "        if shelf_id not in directories:\n",
    "            print(f\"Такой полки не существует. Текущий перечень полок: {shelfs()}\")\n",
    "        else:\n",
    "            return doc,shelf_id\n",
    "            \n"
   ]
  },
  {
   "cell_type": "code",
   "execution_count": null,
   "metadata": {},
   "outputs": [],
   "source": [
    "#\"Начало программы\"\n",
    "user_input()"
   ]
  }
 ],
 "metadata": {
  "kernelspec": {
   "display_name": "Python 3",
   "language": "python",
   "name": "python3"
  },
  "language_info": {
   "codemirror_mode": {
    "name": "ipython",
    "version": 3
   },
   "file_extension": ".py",
   "mimetype": "text/x-python",
   "name": "python",
   "nbconvert_exporter": "python",
   "pygments_lexer": "ipython3",
   "version": "3.8.3"
  }
 },
 "nbformat": 4,
 "nbformat_minor": 4
}
