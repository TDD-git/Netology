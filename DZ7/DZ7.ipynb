{
 "cells": [
  {
   "cell_type": "markdown",
   "metadata": {},
   "source": [
    "## Задание 1"
   ]
  },
  {
   "cell_type": "code",
   "execution_count": 43,
   "metadata": {},
   "outputs": [],
   "source": [
    "from datetime import datetime,timedelta"
   ]
  },
  {
   "cell_type": "code",
   "execution_count": 50,
   "metadata": {},
   "outputs": [],
   "source": [
    "TheMoscowTimes = 'Wednesday, October 2, 2002'\n",
    "TheGuardian = 'Friday, 11.10.13'\n",
    "DailyNews = 'Thursday, 18 August 1977'\n",
    "dt_tmt = datetime.strptime(TheMoscowTimes, '%A, %B %d, %Y')\n",
    "dt_tg = datetime.strptime(TheGuardian, '%A, %d.%m.%y')\n",
    "dt_dn = datetime.strptime(DailyNews, '%A, %d %B %Y')\n",
    "# print(dt_tmt)\n",
    "# print(dt_tg)\n",
    "# print(dt_dn)"
   ]
  },
  {
   "cell_type": "markdown",
   "metadata": {},
   "source": [
    "## Задание 2"
   ]
  },
  {
   "cell_type": "code",
   "execution_count": 51,
   "metadata": {},
   "outputs": [],
   "source": [
    "stream = ['2018-04-02', '2018-02-29', '2018-19-02']\n",
    "\n",
    "def check_date(stream):\n",
    "    for d in stream:\n",
    "        try:\n",
    "            date = datetime.strptime(d, '%Y-%m-%d')\n",
    "            print(d,True)\n",
    "        except ValueError:\n",
    "            print(d,False)\n",
    "# check_date(stream)"
   ]
  },
  {
   "cell_type": "markdown",
   "metadata": {},
   "source": [
    "## Задание 3\n"
   ]
  },
  {
   "cell_type": "code",
   "execution_count": 54,
   "metadata": {},
   "outputs": [],
   "source": [
    "\n",
    "def date_range(start_date,end_date):\n",
    "    date_list = []\n",
    "    try:\n",
    "        sd = datetime.strptime(start_date, '%Y-%m-%d')\n",
    "        ed = datetime.strptime(end_date, '%Y-%m-%d')\n",
    "        if sd > ed:\n",
    "            return []\n",
    "        cur = sd\n",
    "        while cur <= ed:\n",
    "            date_list.append(cur.strftime('%Y-%m-%d'))\n",
    "            cur += timedelta(days=1)\n",
    "        print(date_list)\n",
    "    except ValueError:\n",
    "        return []\n",
    "\n",
    "# a = '2018-01-01'\n",
    "# b = '2018-01-14'\n",
    "# date_range(a,b)\n"
   ]
  },
  {
   "cell_type": "markdown",
   "metadata": {},
   "source": [
    "## Задание 4 (бонусное)\n"
   ]
  },
  {
   "cell_type": "markdown",
   "metadata": {},
   "source": [
    "Данная ошибка означает что мы пытаемся обратится к элементу с индексом, который находится за пределом списка(не в списке). В данном случае к элементу с индексом 1, при наличии только элемента с индексом 0. \n",
    "При первом вызове функции в default_list 3 элемента - [0,1,2]. функция удаляет последний элемент(-1ый) и возвращает всегда элемент с индексом 1, в данном случае 'A101'. При повторном вызове функции мы удаляем еще 1 элемент с индексом -1, в итоге у нас остается список с единственным элементом с индексом 0, а ф-ция пытается вернуть эл-т с индексом 1.\n",
    "\n"
   ]
  }
 ],
 "metadata": {
  "kernelspec": {
   "display_name": "Python 3",
   "language": "python",
   "name": "python3"
  },
  "language_info": {
   "codemirror_mode": {
    "name": "ipython",
    "version": 3
   },
   "file_extension": ".py",
   "mimetype": "text/x-python",
   "name": "python",
   "nbconvert_exporter": "python",
   "pygments_lexer": "ipython3",
   "version": "3.8.3"
  }
 },
 "nbformat": 4,
 "nbformat_minor": 4
}
