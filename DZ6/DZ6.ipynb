{
 "cells": [
  {
   "cell_type": "code",
   "execution_count": 40,
   "metadata": {},
   "outputs": [],
   "source": [
    "import json\n",
    "\n",
    "purchases = {}\n",
    "with open('purchase_log.txt', 'r', encoding='utf-8') as p:\n",
    "    for purch in p:\n",
    "        dict_ = json.loads(purch.strip())\n",
    "        purchases.setdefault(dict_['user_id'],dict_['category'])\n",
    "    p.close()\n",
    "\n",
    "    "
   ]
  },
  {
   "cell_type": "code",
   "execution_count": 41,
   "metadata": {},
   "outputs": [],
   "source": [
    "with open('visit_log.csv', 'r', encoding='utf-8') as v, open('funnel.csv', 'w', encoding='cp1251') as fu:\n",
    "    for visit in v:\n",
    "        visit = visit.strip().split(',')\n",
    "        if visit[0] in purchases:\n",
    "            category = purchases[visit[0]]\n",
    "            row = ','.join(visit)+','+category\n",
    "            fu.write(row+'\\n')\n",
    "    v.close()\n",
    "    fu.close()\n"
   ]
  },
  {
   "cell_type": "code",
   "execution_count": null,
   "metadata": {},
   "outputs": [],
   "source": []
  },
  {
   "cell_type": "code",
   "execution_count": null,
   "metadata": {},
   "outputs": [],
   "source": []
  },
  {
   "cell_type": "code",
   "execution_count": null,
   "metadata": {},
   "outputs": [],
   "source": []
  },
  {
   "cell_type": "code",
   "execution_count": null,
   "metadata": {},
   "outputs": [],
   "source": []
  }
 ],
 "metadata": {
  "kernelspec": {
   "display_name": "Python 3",
   "language": "python",
   "name": "python3"
  },
  "language_info": {
   "codemirror_mode": {
    "name": "ipython",
    "version": 3
   },
   "file_extension": ".py",
   "mimetype": "text/x-python",
   "name": "python",
   "nbconvert_exporter": "python",
   "pygments_lexer": "ipython3",
   "version": "3.8.3"
  }
 },
 "nbformat": 4,
 "nbformat_minor": 4
}
