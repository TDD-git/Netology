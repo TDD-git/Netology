{
 "cells": [
  {
   "cell_type": "markdown",
   "metadata": {},
   "source": [
    "## Задание 1\n",
    "\n",
    "\n",
    "\n",
    "\n",
    "\n"
   ]
  },
  {
   "cell_type": "code",
   "execution_count": null,
   "metadata": {},
   "outputs": [],
   "source": [
    "phrase_1 = input()\n",
    "phrase_2 = input()\n",
    "\n",
    "if len(phrase_1) > len(phrase_2):\n",
    "    print ('Фраза 1 длинее фразы 2')\n",
    "elif len(phrase_1) < len(phrase_2):\n",
    "    print ('Фраза 2 длинее фразы 1')\n",
    "else:\n",
    "    print ('Фразы равной длины')"
   ]
  },
  {
   "cell_type": "markdown",
   "metadata": {},
   "source": [
    "## Задание 2"
   ]
  },
  {
   "cell_type": "code",
   "execution_count": null,
   "metadata": {},
   "outputs": [],
   "source": [
    "year = int(input())\n",
    "\n",
    "if year % 4 == 0:\n",
    "    print ('Високосный год')\n",
    "else:\n",
    "    print ('Обычный год')"
   ]
  },
  {
   "cell_type": "markdown",
   "metadata": {},
   "source": [
    "## Задание 3"
   ]
  },
  {
   "cell_type": "code",
   "execution_count": null,
   "metadata": {},
   "outputs": [],
   "source": [
    "day = int(input('Введите день: '))\n",
    "month = input ('Введите месяц: ')\n",
    "\n",
    "if (31 >= day >= 22 and month == 'Декабрь') or (1 <= day <= 20 and month == 'Январь'):\n",
    "    print ('Козерог')\n",
    "elif (31 >= day >= 21 and month == 'Январь') or (1 <= day <= 20 and month == 'Февраль'):\n",
    "    print ('Водолей')\n",
    "elif (29 >= day >= 21 and month == 'Февраль') or (1 <= day <= 20 and month == 'Март'):\n",
    "    print ('Рыбы')\n",
    "elif (31 >= day >= 21 and month == 'Март') or (1 <= day <= 20 and month == 'Апрель'):\n",
    "    print ('Овен')\n",
    "elif (30 >= day >= 21 and month == 'Апрель') or (1 <= day <= 20 and month == 'Май'):\n",
    "    print ('Телец')\n",
    "elif (31 >= day >= 21 and month == 'Май') or (1 <= day <= 21 and month == 'Июнь'):\n",
    "    print ('Близнецы')\n",
    "elif (30 >= day >= 22 and month == 'Июнь') or (1 <= day <= 22 and month == 'Июль'):\n",
    "    print ('Рак')\n",
    "elif (31 >= day >= 23 and month == 'Июль') or (1 <= day <= 23 and month == 'Август'):\n",
    "    print ('Лев')\n",
    "elif (31 >= day >= 24 and month == 'Август') or (1 <= day <= 23 and month == 'Сентябрь'):\n",
    "    print ('Дева')\n",
    "elif (30 >= day >= 24 and month == 'Сентябрь') or (1 <= day <= 23 and month == 'Октябрь'):\n",
    "    print ('Весы')\n",
    "elif (31 >= day >= 24 and month == 'Октябрь') or (1 <= day <= 22 and month == 'Ноябрь'):\n",
    "    print ('Скорпион')\n",
    "elif (30 >= day >= 23 and month == 'Ноябрь') or (1 <= day <= 21 and month == 'Декабрь'):\n",
    "    print ('Стрелец')\n",
    "else:\n",
    "    print ('Введите день 1-31 и название месяца с большой буквы')\n",
    " "
   ]
  },
  {
   "cell_type": "markdown",
   "metadata": {},
   "source": [
    "## Задание 4 "
   ]
  },
  {
   "cell_type": "code",
   "execution_count": null,
   "metadata": {},
   "outputs": [],
   "source": [
    "w = int(input('Введите ширину: '))\n",
    "l= int(input('Введите длину: '))\n",
    "h = int(input('Введите высоту:'))\n",
    "\n",
    "if w < 15 and l < 15 and h < 15:\n",
    "    print('Коробка №1')\n",
    "elif (15 <= w < 50 or 15 <= l < 50 or 15 <= h < 50) and l < 200:\n",
    "    print('Коробка №2')\n",
    "elif l >= 200:\n",
    "    print('Упаковка для лыж')\n",
    "else:\n",
    "    print('Упаковка №3')\n",
    "\n",
    "\n",
    "\n",
    "\n",
    "\n"
   ]
  },
  {
   "cell_type": "markdown",
   "metadata": {},
   "source": [
    "## Задание 5"
   ]
  },
  {
   "cell_type": "code",
   "execution_count": null,
   "metadata": {},
   "outputs": [],
   "source": [
    "num = int(input('Введите шестизначное число'))\n",
    "## Без цикла как-то так :)\n",
    "if (num % 10 + (num // 10) % 10 + (num // 100) % 10) == ((num // 1000) % 10 + (num // 10000) % 10 + (num // 100000) % 10):\n",
    "    print('Счастливый билет')\n",
    "else:\n",
    "    print('Несчастливый билет')\n",
    "\n",
    "\n",
    "\n",
    "\n"
   ]
  },
  {
   "cell_type": "markdown",
   "metadata": {},
   "source": [
    "## Задание 6"
   ]
  },
  {
   "cell_type": "code",
   "execution_count": null,
   "metadata": {},
   "outputs": [],
   "source": [
    "import math\n",
    "figure = input('Введите название фигуры: ')\n",
    "\n",
    "if figure == 'Круг':\n",
    "    R = int(input('Введите радиус круга'))\n",
    "    S = math.pi*R**2\n",
    "    print(S)\n",
    "elif figure == 'Треугольник':\n",
    "    a = int(input('Введите сторону a: '))\n",
    "    b = int(input('Введите сторону b: '))\n",
    "    c = int(input('Введите сторону c: '))\n",
    "    p = (a + b + c) / 2\n",
    "    S = math.sqrt (p * (p - a)*(p - b)*(p - c))\n",
    "    print (S)\n",
    "elif  figure == 'Прямоугольник':\n",
    "    a = int(input('Введите сторону a: '))\n",
    "    b = int(input('Введите сторону b: '))\n",
    "    S = a * b\n",
    "    print(S)\n",
    "\n",
    "\n"
   ]
  }
 ],
 "metadata": {
  "kernelspec": {
   "display_name": "Python 3",
   "language": "python",
   "name": "python3"
  },
  "language_info": {
   "codemirror_mode": {
    "name": "ipython",
    "version": 3
   },
   "file_extension": ".py",
   "mimetype": "text/x-python",
   "name": "python",
   "nbconvert_exporter": "python",
   "pygments_lexer": "ipython3",
   "version": "3.8.3"
  }
 },
 "nbformat": 4,
 "nbformat_minor": 4
}
